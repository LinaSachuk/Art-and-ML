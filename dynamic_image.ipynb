{
 "cells": [
  {
   "cell_type": "code",
   "execution_count": 1,
   "metadata": {},
   "outputs": [],
   "source": [
    "%matplotlib inline"
   ]
  },
  {
   "cell_type": "markdown",
   "metadata": {},
   "source": [
    "\n",
    "# Animated image using a precomputed list of images\n",
    "\n",
    "\n",
    "\n"
   ]
  },
  {
   "cell_type": "code",
   "execution_count": 84,
   "metadata": {},
   "outputs": [],
   "source": [
    "# https://pillow.readthedocs.io/en/3.1.x/reference/Image.html\n",
    "# Image Module\n",
    "# The Image module provides a class with the same name which is used to represent a PIL image. The module also provides a number of factory functions, including functions to load images from files, and to create new images.\n",
    "\n"
   ]
  },
  {
   "cell_type": "code",
   "execution_count": 1,
   "metadata": {},
   "outputs": [],
   "source": [
    "\n",
    "\n",
    "# Working!!!!!!!!!!!\n",
    "import glob\n",
    "from PIL import Image\n",
    "\n",
    "# filepaths\n",
    "# fp_in = \"/Users/Lina/Downloads/Denver-Dali/test1/*.png\"\n",
    "# fp_in = \"/Users/Lina/Downloads/Denver-Klimt/test/*.png\"\n",
    "# fp_in = \"/Users/Lina/Downloads/Lina-Picasso/test/*.png\"\n",
    "fp_in = \"/Users/Lina/DU-Projects/DU-finalProject/Model7/static/img/Denver-Picasso/test/*.png\"\n",
    "\n",
    "\n",
    "\n",
    "# fp_out = \"/Users/Lina/Downloads/Denver-Dali/image.gif\"\n",
    "# fp_out = \"/Users/Lina/Downloads/Denver-Klimt/image.gif\"\n",
    "# fp_out = \"/Users/Lina/Downloads/Lina-Picasso/image.gif\"\n",
    "fp_out = \"/Users/Lina/DU-Projects/DU-finalProject/Model7/static/img/Denver-Picasso/image.gif\"\n",
    "\n",
    "\n",
    "# https://pillow.readthedocs.io/en/stable/handbook/image-file-formats.html#gif\n",
    "img, *imgs = [Image.open(f) for f in sorted(glob.glob(fp_in))]\n",
    "img.save(fp=fp_out, format='GIF', append_images=imgs, \n",
    "         save_all=True, duration=900, loop=0)\n",
    "\n",
    "\n",
    "# Working!!!!!!!!!!!"
   ]
  },
  {
   "cell_type": "code",
   "execution_count": 83,
   "metadata": {},
   "outputs": [],
   "source": [
    "# Open, rotate, and display an image (using the default viewer)\n",
    "from PIL import Image\n",
    "im = Image.open(\"/Users/Lina/Downloads/Denver-Dali/test1/001.png\")\n",
    "im.rotate(45).show()"
   ]
  },
  {
   "cell_type": "code",
   "execution_count": null,
   "metadata": {},
   "outputs": [],
   "source": [
    "# Create thumbnails\n",
    "from PIL import Image\n",
    "import glob, os\n",
    "\n",
    "size = 128, 128\n",
    "\n",
    "for infile in glob.glob(\"*.jpg\"):\n",
    "    file, ext = os.path.splitext(infile)\n",
    "    im = Image.open(infile)\n",
    "    im.thumbnail(size)\n",
    "    im.save(file + \".thumbnail\", \"JPEG\")"
   ]
  },
  {
   "cell_type": "code",
   "execution_count": null,
   "metadata": {},
   "outputs": [],
   "source": []
  }
 ],
 "metadata": {
  "kernelspec": {
   "display_name": "Python 3",
   "language": "python",
   "name": "python3"
  },
  "language_info": {
   "codemirror_mode": {
    "name": "ipython",
    "version": 3
   },
   "file_extension": ".py",
   "mimetype": "text/x-python",
   "name": "python",
   "nbconvert_exporter": "python",
   "pygments_lexer": "ipython3",
   "version": "3.7.6"
  }
 },
 "nbformat": 4,
 "nbformat_minor": 1
}
